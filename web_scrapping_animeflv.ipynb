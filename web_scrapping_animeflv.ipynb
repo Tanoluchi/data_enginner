{
 "cells": [
  {
   "cell_type": "code",
   "execution_count": 49,
   "id": "43fbd979",
   "metadata": {},
   "outputs": [],
   "source": [
    "import requests, bs4\n",
    "\n",
    "response = requests.get('https://jkanime.net/directorio/')\n",
    "response.encoding ='utf-8'\n",
    "soup = bs4.BeautifulSoup(response.text, 'html.parser')"
   ]
  },
  {
   "cell_type": "code",
   "execution_count": 55,
   "id": "3cfd87fe",
   "metadata": {},
   "outputs": [
    {
     "name": "stdout",
     "output_type": "stream",
     "text": [
      "Link: https://jkanime.net/ashita-no-joe/\n",
      "Link: https://jkanime.net/lupin-iii/\n",
      "Link: https://jkanime.net/mazinger-z/\n",
      "Link: https://jkanime.net/alps-no-shoujo-heidi/\n",
      "Link: https://jkanime.net/candy-candy/\n",
      "Link: https://jkanime.net/mobile-suit-gundam/\n",
      "Link: https://jkanime.net/rose-of-versailles/\n",
      "Link: https://jkanime.net/ashita-no-joe-2/\n",
      "Link: https://jkanime.net/macross/\n",
      "Link: https://jkanime.net/capitan-tsubasa/\n",
      "Link: https://jkanime.net/fist-of-the-north-star/\n",
      "Link: https://jkanime.net/mobile-suit-zeta-gundam/\n",
      "Link: https://jkanime.net/dragon-ball/\n",
      "Link: https://jkanime.net/mobile-suit-gundam-zz/\n",
      "Link: https://jkanime.net/saint-seiya/\n",
      "Link: https://jkanime.net/grave-of-the-fireflies/\n",
      "Link: https://jkanime.net/my-neighbor-totoro/\n",
      "Link: https://jkanime.net/samurais-warrios/\n",
      "Link: https://jkanime.net/akira/\n",
      "Link: https://jkanime.net/ranma-/\n",
      "Link: https://jkanime.net/dragon-ball-z/\n",
      "Link: https://jkanime.net/dragon-ball-z-movie-01-the-deadzone/\n",
      "Link: https://jkanime.net/kikis-delivery-service/\n",
      "Link: https://jkanime.net/dragon-ball-z-movie-02-the-worlds-strongest/\n"
     ]
    }
   ],
   "source": [
    "animes = soup.select('.custom_thumb2 > a')\n",
    "linkAnimes = [anime['href'] for anime in animes]\n",
    "\n",
    "for link in linkAnimes:\n",
    "    print(f'Link: {link}')"
   ]
  },
  {
   "cell_type": "code",
   "execution_count": null,
   "id": "ccbb3c27",
   "metadata": {},
   "outputs": [],
   "source": []
  },
  {
   "cell_type": "code",
   "execution_count": null,
   "id": "669a71a6",
   "metadata": {},
   "outputs": [],
   "source": []
  }
 ],
 "metadata": {
  "kernelspec": {
   "display_name": "Python 3.10.0 64-bit",
   "language": "python",
   "name": "python3"
  },
  "language_info": {
   "codemirror_mode": {
    "name": "ipython",
    "version": 3
   },
   "file_extension": ".py",
   "mimetype": "text/x-python",
   "name": "python",
   "nbconvert_exporter": "python",
   "pygments_lexer": "ipython3",
   "version": "3.10.0"
  },
  "vscode": {
   "interpreter": {
    "hash": "c63d8c7d738c2960218a10995aedf0a7f67a49a231e71037adf0440953cdb45b"
   }
  }
 },
 "nbformat": 4,
 "nbformat_minor": 5
}
